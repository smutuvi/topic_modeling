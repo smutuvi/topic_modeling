{
 "cells": [
  {
   "cell_type": "code",
   "execution_count": 11,
   "metadata": {
    "collapsed": true
   },
   "outputs": [],
   "source": [
    "import os\n",
    "import glob\n",
    "import sys\n",
    "import argparse\n",
    "import json\n",
    "import errno\n",
    "import gensim\n",
    "from nltk import *\n",
    "from gensim import corpora, models\n",
    "# files = glob.glob(p + \"/data/1.txt\")\n",
    "\n",
    "from nltk.corpus import stopwords\n",
    "from nltk.stem.wordnet import WordNetLemmatizer\n",
    "import string\n",
    "\n",
    "\n",
    "import re\n",
    "tokenizer = RegexpTokenizer(r'\\w+')\n",
    "\n",
    "p=os.getcwd()\n",
    "stopwords = set(stopwords.words('english'))\n",
    "punctuation = set(string.punctuation)\n",
    "lemmatize = WordNetLemmatizer()\n",
    "\n",
    "def cleaning_text(text):\n",
    "    letters_only = re.sub(\"[^a-zA-Z]\", \" \", text)\n",
    "    words = tokenizer.tokenize(letters_only.lower())\n",
    "    stops = set(nltk.corpus.stopwords.words(\"english\"))\n",
    "    _words = [w for w in words if not w in stopwords]\n",
    "    return _words\n",
    "\n",
    "def cleaning(article):\n",
    "    zero = re.sub(\"[^a-zA-Z]\", \" \", article)\n",
    "    one = \" \".join([i for i in zero.lower().split() if i not in stopwords])\n",
    "    two = \"\".join(i for i in one if i not in punctuation)\n",
    "    three = \" \".join(lemmatize.lemmatize(i) for i in two.split())\n",
    "    return three\n",
    "\n",
    "cleaned_text = []\n",
    "def loadtext(testfiles):\n",
    "     for name in testfiles:\n",
    "        try:\n",
    "            with open(name, 'r',encoding='utf-8') as f:\n",
    "             for line in f:\n",
    "                if line.startswith(\"[OCR_aligned]\"):\n",
    "                    raw_corpus = line[len(\"[OCR_aligned]\") + 1:]\n",
    "                    # raw_corpus = cleaning(raw_corpus)\n",
    "                    cleaned_text.append(raw_corpus)\n",
    "        except IOError as exc: #Not sure what error this is\n",
    "            if exc.errno != errno.EISDIR:\n",
    "                raise"
   ]
  },
  {
   "cell_type": "code",
   "execution_count": 21,
   "metadata": {},
   "outputs": [],
   "source": [
    "def main():\n",
    "    parser = argparse.ArgumentParser(description=\"ICDAR 2017 Post-OCR Processing Script\", formatter_class=argparse.ArgumentDefaultsHelpFormatter)\n",
    "    # parser.add_argument('-i','--input', type=str, help=\"Input file or directory (*.txt files)\", action='store',required=True)\n",
    "    # args = parser.parse_args()\n",
    "\n",
    "    if os.path.isdir(p):\n",
    "        testfiles = []\n",
    "        for f in glob.glob(p+ \"/data/en_periodicals/*.txt\"):\n",
    "            testfiles.append(f)\n",
    "\n",
    "    else:\n",
    "        testfiles = [p]\n",
    "\n",
    "    loadtext(testfiles)\n",
    "    # print(cleaned_text)\n",
    "   \n",
    "    # text = loadtext(testfiles)\n",
    "    # print(text)\n",
    "main()"
   ]
  },
  {
   "cell_type": "code",
   "execution_count": 22,
   "metadata": {},
   "outputs": [],
   "source": [
    "from sklearn.feature_extraction.text import TfidfVectorizer, CountVectorizer\n",
    "from sklearn.datasets import fetch_20newsgroups\n",
    "from sklearn.decomposition import NMF, LatentDirichletAllocation\n",
    "\n",
    "def display_topics(model, feature_names, no_top_words):\n",
    "    for topic_idx, topic in enumerate(model.components_):\n",
    "        print(\"Topic %d:\" % (topic_idx))\n",
    "        print(\" \".join([feature_names[i]\n",
    "                        for i in topic.argsort()[:-no_top_words - 1:-1]]))\n",
    "\n",
    "# dataset = fetch_20newsgroups(shuffle=True, random_state=1, remove=('headers', 'footers', 'quotes'))\n",
    "\n",
    "documents = cleaned_text\n",
    "\n",
    "no_features = 10000\n",
    "no_topics = 20\n",
    "# NMF is able to use tf-idf\n",
    "tfidf_vectorizer = TfidfVectorizer(max_df=0.95, min_df=2, max_features=no_features, stop_words='english')\n",
    "tfidf = tfidf_vectorizer.fit_transform(documents)\n",
    "tfidf_feature_names = tfidf_vectorizer.get_feature_names()\n",
    "\n",
    "# LDA can only use raw term counts for LDA because it is a probabilistic graphical model\n",
    "tf_vectorizer = CountVectorizer(max_df=0.95, min_df=2, max_features=no_features, stop_words='english')\n",
    "tf = tf_vectorizer.fit_transform(documents)\n",
    "tf_feature_names = tf_vectorizer.get_feature_names()"
   ]
  },
  {
   "cell_type": "code",
   "execution_count": 23,
   "metadata": {},
   "outputs": [
    {
     "name": "stderr",
     "output_type": "stream",
     "text": [
      "/home/mutuvi/miniconda3/envs/keras/lib/python3.6/site-packages/sklearn/decomposition/online_lda.py:294: DeprecationWarning: n_topics has been renamed to n_components in version 0.19 and will be removed in 0.21\n  DeprecationWarning)\n"
     ]
    },
    {
     "name": "stdout",
     "output_type": "stream",
     "text": [
      "\nTopics in LDA model:\n\nTopic 0:\nmr esq new tbe said great london tho house street place time 000 men having year day man general little saturday th public john present\nTopic 1:\nthé man said little good corsica like time old great day did long way love life lady thou mr shall oliver thy know say road\nTopic 2:\nmr tbe street new great london day time esq house said general man 000 sir court having men th place present state aud tho country\nTopic 3:\nsaid hee man thou rush good did fryer great bacon doe went came dl quoth time come haue thee shall thy king wife goe againe\nTopic 4:\nmr tbe street new day time said house london th great tho tlie having place man 000 public year mrs st john present years aud\nTopic 5:\nmr tbe having new great time good tlie day man street said present th ot year place public aud house saturday tho 000 took following\nTopic 6:\nceylindo fo mr cure aud moft starch years luxe london medicine day powell tiff tbe remedy mazawattee balsam free iu pills chemist st ot drops\nTopic 7:\narmy swedish troops shall convention armistice united states decrees congress chief mr retreat russian tire measures nov rights orders documents rear given places suspension turkey\nTopic 8:\nesq director london railway king thomas william efq great manchester company john life place sir march south french order street time taken james men mr\nTopic 9:\nmr tbe day th house work man st london said tho time public year great street place ot new men morning years england having state\nTopic 10:\nmr royal street tbe day majesty great said new 000 tlie queen half st th chateau london tho time nose having lord place ot sir\nTopic 11:\npub plates cloth 4to gilt morocco 8vo bound edges vols half uncut 12s extra folio 6c 6s edition hf bd royal works historical mr 6d\nTopic 12:\ndollars mr shall tbe ill necessary militia tlte year time treasury meeting congress revenue great chaise ith internal present public laws aud commerce debt th\nTopic 13:\njan mr feb attorney street dec 31 liverpool attornies guildhall inn messrs 10 merchant manchester john middlesex grocer 21 george marine 27 maker 14 new\nTopic 14:\nsugar cane planters beetroot plant mr barbados soil price time labor year value planter day crops shilling new said bridgetown cultivate cotton work negroes tbe\nTopic 15:\nmr day time tbe great new st place street mrs man tho good john aud ceylindo esq th said london years did half year public\nTopic 16:\nmr street time great house london new said good tlie man day st present aud lord place country state 000 having sir given esq half\nTopic 17:\nmr tbe th exeter street tlie time new day pte tho man good having said place year st london great men house long sir way\nTopic 18:\nmethodists worldly preachers mystery insisted church mr establishment corruption accuse trinity arid cal opinions net succeed deposed doctrine belief councils iff scandal introduced confirmation mem\nTopic 19:\nrobert hym grete ye haue whiche duke whan sayd man god emperour came deuyll good sholde rome fader come sone dyde doughter moche unto saynge\n\nTopics in NMF model:\n\nTopic 0:\nmr street new house time day said having london mrs place tho public great year exeter st sir 000 john present years general saturday clock\nTopic 1:\nking clothiers towne kings reading maiestie great worcester ouer glocester owne england cole wealth doue euer wiues came thomas hauing grace diuers salisbury chap hodgekins\nTopic 2:\nrobert hym grete whiche whan haue sayd emperour doughter sone fader dyde sholde moche deuyll duke theyr saynge rome themperour penaunce wolde coude god moder\nTopic 3:\nthy thou thee hast art dost shalt thine st canst loue wilt heaven shall blessing flowers selfe ah stay heart didst oft blest faire music\nTopic 4:\nfryer bacon hee vandermast said told king bungye did gentleman art doe againe went himselfe famous bungey des devill beene speake father man seeing glasse\nTopic 5:\nrush priour said frier unto maister went friers sir great anon came goe doe servant againe priest gentleman come departed thou cooke man home kitchin\nTopic 6:\nsugar cane planters beetroot barbados plant labor island crops price year soil bridgetown plantations parts growing time land islands work fact indies shilling built negroes\nTopic 7:\nisland islands st miles sea antigua christopher dominica coast caribbean west land caribs kitt barracouta south french shore columbus martinique little caribbees year anguilla height\nTopic 8:\narmy swedish troops enemy convention armistice position retreat nov gen attack russian cavalry chief rear shall infantry received turkey tire division having attacked artillery imperial\nTopic 9:\nesq director railway london manchester street john william company james th price derby published direct insurance square rugby bucks chairman messrs 13 life dish bicester\nTopic 10:\nlove like anthology bk er life english man shall heaven sweet world sect ll heart day light soul oh dear doth old ii death fair\nTopic 11:\npub plates 4to morocco cloth gilt 8vo edges vols uncut bound 6c folio 12s half bd hf 6s extra edition 6d historical published royal works\nTopic 12:\ntbe ot th tho ol 000 iu aud labourers meeting ths lord norwich tha immigration ha oi colonies labour west und government bis law bad\nTopic 13:\ntime brazen head speake words sleepe noyse halfe des know spake watched thou houre drunke browne wiser feare master tune sung better face paines thee\nTopic 14:\ntlie john aberdeen ult lie cf voice lands week lias robinson edinburgh james phrenological yv east july alexander leith iris coach ed phrenology ttiat wm\nTopic 15:\nquoth haue said neuer good dl doe wife qd vp goe husband man oast selfe loue faire margaret sha reading cutbert pleasant historie thomas saying\nTopic 16:\nhee himselfe miles debts priest money bee mee devi dl poore feare man come bis did ready good famous gentleman dev fo des went quickly\nTopic 17:\nbru cas cassius brutus durst gods shall caesar denied didst faults gold humour revenge heart doth prologue soldier antonio dagger condemned grows rash palm bear\nTopic 18:\nye yf sayd wy duke lorde shewe synnes lycidas rose flour al wyll baron saynge sone leue blow whan fell knowe deuy shall answered fe\nTopic 19:\ndid faire rode bungye eke queene away faery seven unto knight himselfe like vandermast hide greatest monster went dragon glasse ne sake dead angry young\n"
     ]
    }
   ],
   "source": [
    "# Run NMF\n",
    "nmf = NMF(n_components=no_topics, random_state=4, alpha=.1, l1_ratio=.5, init='nndsvd').fit(tfidf)\n",
    "\n",
    "# Run LDA\n",
    "lda = LatentDirichletAllocation(n_topics=no_topics, max_iter=5, learning_method='online', learning_offset=50.,random_state=0).fit(tf)\n",
    "\n",
    "no_top_words = 25\n",
    "print(\"\\nTopics in LDA model:\\n\")\n",
    "display_topics(lda, tf_feature_names, no_top_words)\n",
    "\n",
    "print(\"\\nTopics in NMF model:\\n\")\n",
    "display_topics(nmf, tfidf_feature_names, no_top_words)"
   ]
  }
 ],
 "metadata": {
  "kernelspec": {
   "display_name": "Python 2",
   "language": "python",
   "name": "python2"
  },
  "language_info": {
   "codemirror_mode": {
    "name": "ipython",
    "version": 2.0
   },
   "file_extension": ".py",
   "mimetype": "text/x-python",
   "name": "python",
   "nbconvert_exporter": "python",
   "pygments_lexer": "ipython2",
   "version": "2.7.6"
  }
 },
 "nbformat": 4,
 "nbformat_minor": 0
}