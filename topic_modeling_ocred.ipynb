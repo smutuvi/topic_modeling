{
 "cells": [
  {
   "cell_type": "code",
   "execution_count": 11,
   "metadata": {
    "collapsed": true
   },
   "outputs": [],
   "source": [
    "import os\n",
    "import glob\n",
    "import sys\n",
    "import argparse\n",
    "import json\n",
    "import errno\n",
    "import gensim\n",
    "from nltk import *\n",
    "from gensim import corpora, models\n",
    "# files = glob.glob(p + \"/data/1.txt\")\n",
    "\n",
    "from nltk.corpus import stopwords\n",
    "from nltk.stem.wordnet import WordNetLemmatizer\n",
    "import string\n",
    "\n",
    "\n",
    "import re\n",
    "tokenizer = RegexpTokenizer(r'\\w+')\n",
    "\n",
    "p=os.getcwd()\n",
    "stopwords = set(stopwords.words('english'))\n",
    "punctuation = set(string.punctuation)\n",
    "lemmatize = WordNetLemmatizer()\n",
    "\n",
    "def cleaning_text(text):\n",
    "    letters_only = re.sub(\"[^a-zA-Z]\", \" \", text)\n",
    "    words = tokenizer.tokenize(letters_only.lower())\n",
    "    stops = set(nltk.corpus.stopwords.words(\"english\"))\n",
    "    _words = [w for w in words if not w in stopwords]\n",
    "    return _words\n",
    "\n",
    "def cleaning(article):\n",
    "    zero = re.sub(\"[^a-zA-Z]\", \" \", article)\n",
    "    one = \" \".join([i for i in zero.lower().split() if i not in stopwords])\n",
    "    two = \"\".join(i for i in one if i not in punctuation)\n",
    "    three = \" \".join(lemmatize.lemmatize(i) for i in two.split())\n",
    "    return three\n",
    "\n",
    "cleaned_text = []\n",
    "def loadtext(testfiles):\n",
    "     for name in testfiles:\n",
    "        try:\n",
    "            with open(name, 'r',encoding='utf-8') as f:\n",
    "             for line in f:\n",
    "                if line.startswith(\"[OCR_aligned]\"):\n",
    "                    raw_corpus = line[len(\"[OCR_aligned]\") + 1:]\n",
    "                    # raw_corpus = cleaning(raw_corpus)\n",
    "                    cleaned_text.append(raw_corpus)\n",
    "        except IOError as exc: #Not sure what error this is\n",
    "            if exc.errno != errno.EISDIR:\n",
    "                raise"
   ]
  },
  {
   "cell_type": "code",
   "execution_count": 24,
   "metadata": {},
   "outputs": [],
   "source": [
    "def main():\n",
    "    parser = argparse.ArgumentParser(description=\"Historical OCRed Topic Modeling Script\", formatter_class=argparse.ArgumentDefaultsHelpFormatter)\n",
    "    # parser.add_argument('-i','--input', type=str, help=\"Input file or directory (*.txt files)\", action='store',required=True)\n",
    "    # args = parser.parse_args()\n",
    "\n",
    "    if os.path.isdir(p):\n",
    "        testfiles = []\n",
    "        for f in glob.glob(p+ \"/data/en_periodicals/*.txt\"):\n",
    "            testfiles.append(f)\n",
    "\n",
    "    else:\n",
    "        testfiles = [p]\n",
    "\n",
    "    loadtext(testfiles)\n",
    "    # print(cleaned_text)\n",
    "   \n",
    "    # text = loadtext(testfiles)\n",
    "    # print(text)\n",
    "main()"
   ]
  },
  {
   "cell_type": "code",
   "execution_count": 25,
   "metadata": {},
   "outputs": [],
   "source": [
    "from sklearn.feature_extraction.text import TfidfVectorizer, CountVectorizer\n",
    "from sklearn.datasets import fetch_20newsgroups\n",
    "from sklearn.decomposition import NMF, LatentDirichletAllocation\n",
    "\n",
    "def display_topics(model, feature_names, no_top_words):\n",
    "    for topic_idx, topic in enumerate(model.components_):\n",
    "        print(\"Topic %d:\" % (topic_idx))\n",
    "        print(\" \".join([feature_names[i]\n",
    "                        for i in topic.argsort()[:-no_top_words - 1:-1]]))\n",
    "\n",
    "# dataset = fetch_20newsgroups(shuffle=True, random_state=1, remove=('headers', 'footers', 'quotes'))\n",
    "\n",
    "documents = cleaned_text\n",
    "\n",
    "no_features = 10000\n",
    "no_topics = 20\n",
    "# NMF is able to use tf-idf\n",
    "tfidf_vectorizer = TfidfVectorizer(max_df=0.95, min_df=2, max_features=no_features, stop_words='english')\n",
    "tfidf = tfidf_vectorizer.fit_transform(documents)\n",
    "tfidf_feature_names = tfidf_vectorizer.get_feature_names()\n",
    "\n",
    "# LDA can only use raw term counts for LDA because it is a probabilistic graphical model\n",
    "tf_vectorizer = CountVectorizer(max_df=0.95, min_df=2, max_features=no_features, stop_words='english')\n",
    "tf = tf_vectorizer.fit_transform(documents)\n",
    "tf_feature_names = tf_vectorizer.get_feature_names()"
   ]
  },
  {
   "cell_type": "code",
   "execution_count": 26,
   "metadata": {},
   "outputs": [
    {
     "name": "stderr",
     "output_type": "stream",
     "text": [
      "/home/mutuvi/miniconda3/envs/keras/lib/python3.6/site-packages/sklearn/decomposition/online_lda.py:294: DeprecationWarning: n_topics has been renamed to n_components in version 0.19 and will be removed in 0.21\n  DeprecationWarning)\n"
     ]
    }
   ],
   "source": [
    "# Run NMF\n",
    "nmf = NMF(n_components=no_topics, random_state=4, alpha=.1, l1_ratio=.5, init='nndsvd').fit(tfidf)\n",
    "\n",
    "# Run LDA\n",
    "lda = LatentDirichletAllocation(n_topics=no_topics, max_iter=5, learning_method='online', learning_offset=50.,random_state=0).fit(tf)\n",
    "\n",
    "no_top_words = 25\n",
    "print(\"\\nTopics in LDA model:\\n\")\n",
    "display_topics(lda, tf_feature_names, no_top_words)\n",
    "\n",
    "print(\"\\nTopics in NMF model:\\n\")\n",
    "display_topics(nmf, tfidf_feature_names, no_top_words)"
   ]
  }
 ],
 "metadata": {
  "kernelspec": {
   "display_name": "Python 2",
   "language": "python",
   "name": "python2"
  },
  "language_info": {
   "codemirror_mode": {
    "name": "ipython",
    "version": 2.0
   },
   "file_extension": ".py",
   "mimetype": "text/x-python",
   "name": "python",
   "nbconvert_exporter": "python",
   "pygments_lexer": "ipython2",
   "version": "2.7.6"
  }
 },
 "nbformat": 4,
 "nbformat_minor": 0
}