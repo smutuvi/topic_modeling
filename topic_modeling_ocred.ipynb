{
 "cells": [
  {
   "cell_type": "code",
   "execution_count": 28,
   "metadata": {
    "collapsed": true
   },
   "outputs": [],
   "source": [
    "import os\n",
    "import glob\n",
    "import sys\n",
    "import argparse\n",
    "import json\n",
    "import errno\n",
    "import gensim\n",
    "from nltk import *\n",
    "from gensim import corpora, models\n",
    "# files = glob.glob(p + \"/data/1.txt\")\n",
    "\n",
    "from nltk.corpus import stopwords\n",
    "from nltk.stem.wordnet import WordNetLemmatizer\n",
    "import string\n",
    "\n",
    "\n",
    "import re\n",
    "tokenizer = RegexpTokenizer(r'\\w+')\n",
    "\n",
    "p=os.getcwd()\n",
    "stopwords = set(stopwords.words('english'))\n",
    "punctuation = set(string.punctuation)\n",
    "lemmatize = WordNetLemmatizer()\n",
    "\n",
    "def cleaning_text(text):\n",
    "    letters_only = re.sub(\"[^a-zA-Z]\", \" \", text)\n",
    "    words = tokenizer.tokenize(letters_only.lower())\n",
    "    stops = set(nltk.corpus.stopwords.words(\"english\"))\n",
    "    _words = [w for w in words if not w in stopwords]\n",
    "    return _words\n",
    "\n",
    "def cleaning(article):\n",
    "    zero = re.sub(\"[^a-zA-Z]\", \" \", article)\n",
    "    one = \" \".join([i for i in zero.lower().split() if i not in stopwords])\n",
    "    two = \"\".join(i for i in one if i not in punctuation)\n",
    "    three = \" \".join(lemmatize.lemmatize(i) for i in two.split())\n",
    "    return three\n",
    "\n",
    "cleaned_text = []\n",
    "def loadtext(testfiles):\n",
    "     for name in testfiles:\n",
    "        try:\n",
    "            with open(name, 'r',encoding='utf-8') as f:\n",
    "             for line in f:\n",
    "                if line.startswith(\"[OCR_aligned]\"):\n",
    "                    raw_corpus = line[len(\"[OCR_aligned]\") + 1:]\n",
    "                    # raw_corpus = cleaning(raw_corpus)\n",
    "                    cleaned_text.append(raw_corpus)\n",
    "        except IOError as exc: #Not sure what error this is\n",
    "            if exc.errno != errno.EISDIR:\n",
    "                raise"
   ]
  },
  {
   "cell_type": "code",
   "execution_count": 29,
   "metadata": {},
   "outputs": [],
   "source": [
    "def main():\n",
    "    parser = argparse.ArgumentParser(description=\"Historical OCRed Topic Modeling Script\", formatter_class=argparse.ArgumentDefaultsHelpFormatter)\n",
    "    # parser.add_argument('-i','--input', type=str, help=\"Input file or directory (*.txt files)\", action='store',required=True)\n",
    "    # args = parser.parse_args()\n",
    "\n",
    "    if os.path.isdir(p):\n",
    "        testfiles = []\n",
    "        for f in glob.glob(p+ \"/data/en_periodicals/*.txt\"):\n",
    "            testfiles.append(f)\n",
    "\n",
    "    else:\n",
    "        testfiles = [p]\n",
    "\n",
    "    loadtext(testfiles)\n",
    "    # print(cleaned_text)\n",
    "   \n",
    "    # text = loadtext(testfiles)\n",
    "    # print(text)\n",
    "main()"
   ]
  },
  {
   "cell_type": "code",
   "execution_count": 30,
   "metadata": {},
   "outputs": [],
   "source": [
    "from sklearn.feature_extraction.text import TfidfVectorizer, CountVectorizer\n",
    "from sklearn.datasets import fetch_20newsgroups\n",
    "from sklearn.decomposition import NMF, LatentDirichletAllocation\n",
    "\n",
    "def display_topics(model, feature_names, no_top_words):\n",
    "    for topic_idx, topic in enumerate(model.components_):\n",
    "        print(\"Topic %d:\" % (topic_idx))\n",
    "        print(\" \".join([feature_names[i]\n",
    "                        for i in topic.argsort()[:-no_top_words - 1:-1]]))\n",
    "\n",
    "# dataset = fetch_20newsgroups(shuffle=True, random_state=1, remove=('headers', 'footers', 'quotes'))\n",
    "\n",
    "documents = cleaned_text\n",
    "\n",
    "no_features = 10000\n",
    "no_topics = 20\n",
    "# NMF is able to use tf-idf\n",
    "tfidf_vectorizer = TfidfVectorizer(max_df=0.95, min_df=2, max_features=no_features, stop_words='english')\n",
    "tfidf = tfidf_vectorizer.fit_transform(documents)\n",
    "tfidf_feature_names = tfidf_vectorizer.get_feature_names()\n",
    "\n",
    "# LDA can only use raw term counts for LDA because it is a probabilistic graphical model\n",
    "tf_vectorizer = CountVectorizer(max_df=0.95, min_df=2, max_features=no_features, stop_words='english')\n",
    "tf = tf_vectorizer.fit_transform(documents)\n",
    "tf_feature_names = tf_vectorizer.get_feature_names()"
   ]
  },
  {
   "cell_type": "code",
   "execution_count": 31,
   "metadata": {},
   "outputs": [
    {
     "name": "stderr",
     "output_type": "stream",
     "text": [
      "/home/mutuvi/miniconda3/envs/keras/lib/python3.6/site-packages/sklearn/decomposition/online_lda.py:294: DeprecationWarning: n_topics has been renamed to n_components in version 0.19 and will be removed in 0.21\n  DeprecationWarning)\n"
     ]
    },
    {
     "name": "stdout",
     "output_type": "stream",
     "text": [
      "\nTopics in LDA model:\n\nTopic 0:\nmr london new street day th esq year man tho 000 time general having hand place large tlie saturday public following 10 said tbe rev\nTopic 1:\nmr tlie exeter street new house london day esq tbe years th railway time general road good john having best man 000 st mrs tho\nTopic 2:\njan street mr th new esq london day messrs john january feb house price published hull attorney dec 6d general company public said 31 french\nTopic 3:\nmr street tbe tlie london esq public day house clock director said life john new st mrs morning january given time sir country magistrate fine\nTopic 4:\nmr tbe th day esq street royal london place time new general st 000 clock order john house king exeter troops iu men said william\nTopic 5:\nmr tbe street day time new house london said th tho tlie place having man 000 st esq year good public john sir present aud\nTopic 6:\nmr esq railway london tbe director day time sir street house efq william lord john new having general years right aud french thomas paid tlie\nTopic 7:\nmr tbe time london street said esq new having house day st public man tho good th received ot 000 men old court years 6d\nTopic 8:\nesq mr director london tbe railway house tho street place john south time company man tlie sir 000 st new chairman william having given old\nTopic 9:\nmr tho time day tbe house long wednesday john street ditto land paid property state place near second london act st man james th shall\nTopic 10:\nmr tlie 000 public tbe present new day time years th having week london place mrs prices town tho morning john man year ol said\nTopic 11:\nmr new having tbe day time th street house held years london 6d received enemy good saturday 000 tho year bishop left men court said\nTopic 12:\nmr tho street st tbe time present rev lord th john 000 new good town hand exeter fitted queen south late 12 6d bari meeting\nTopic 13:\nmr tbe pte tho time london street year goal day john said try sir held half place house william years mrs man tlie following st\nTopic 14:\nmr street pte day london new tiie house esq place years lie tbe present good time public general sir saturday year 000 aud said sold\nTopic 15:\nmr street tlie exeter new apply place day th said house half george dec 10 lord mrs messrs price country general john men good make\nTopic 16:\nmr tlie tbe th st place present order sir new country man street having land exeter clock john house said meeting 000 hull good state\nTopic 17:\nmr street london tbe time said day road aud new public sir st given esq good left place large having king office william country like\nTopic 18:\nmr tlie tbe time house st day good new london street aud tho esq place said half having exeter sir fo lord ing present country\nTopic 19:\nmr said street th london tlie day time place man men office sir lord having 000 tbe ot jan received new ing did lie public\n\nTopics in NMF model:\n\nTopic 0:\nmr street day tho said house new time 000 london tbe place man sir having st john aud public year years mrs week present clock\nTopic 1:\nzetland engineers engraved englishmen englishman english englifh england engines engineering engravings engineer engine engagements engagement engaged engage eng engraving enjoy europe ensued entering entered enter\nTopic 2:\nefq majclly vienna ticket le drawn luch quis fuch spanifh whitehall houfe empire thomas william 600 prince fo richard fend aft forces petition declared moll\nTopic 3:\ntbe th ot labourers tho norwich ol immigration aud iu colonies ths meeting lord labour 000 tha und ashburton west bis ha wages englishman engine\nTopic 4:\nstreet esq th published price london january 8vo vols new messrs teeth edition furniture john 6d mahogany cornhill 1841 auction chairs rosewood sec plate ef\nTopic 5:\ntlie voice lands aberdeen john ult cf lie yv lias iris english englifh zetland englishman england engraved englishmen engineers engines engravings engineering engineer engine engagements\nTopic 6:\nmethodists church mystery preachers worldly insisted religion opinions popish knows popery establishment luther faith christian aiming inquiry men accuse zeal god belief love doctrine succeed\nTopic 7:\narmy swedish troops enemy convention armistice retreat nov position russians ratified rear shall russian gen cavalry chief attack turkey infantry borg fate attacked tire greeks\nTopic 8:\ndirector esq railway manchester london rugby derby dish william direct company bucks insurance chairman leek wilts james square john midland life joseph encouragement engravings enjoyments\nTopic 9:\nexeter essence hatton street auction 1894 devon apply rippon december ratepayers 1895 agency gandy ladies thompson anted guardians dec stamp nominated electors fulford sidwell ward\nTopic 10:\ngame universities labourer lands property landlords plantations farmer sale agricultural land norfolk discipline preservation case time private present bred everybody rails sport does waste protection\nTopic 11:\nhammond slavery slaves slave eyre human expeditions dollars god says heaven surely poetry australia millions ear fail pious institution sound cole commanded box annoyed barred\nTopic 12:\njan feb attorney attornies guildhall 31 dec grocer street middlesex liverpool manchester inn marine merchant messrs scarborough 21 maker 10 halifax strect mr chant jon\nTopic 13:\nplaintiff parr prints subscribers defendant drummond mr wife chalk benson facts paintings prospectus excellence proved damages line mrs said work contended artists lived scribers familiarities\nTopic 14:\npte sergt corpl elliot goal pie auckland middlesbrough darlington scored stockton game durham hurdle goals hartlepool engineering englishmen engineers engines england engineer engine englifh engagements\nTopic 15:\ndollars tlte militia chaise congress shall internal revenue necessary ill funded factories detachments l8 contracts treasury lions ith debt appropriated commerce powers uot laws repeated\nTopic 16:\nzetland engineers engraved englishmen englishman english englifh england engines engineering engravings engineer engine engagements engagement engaged engage eng engraving enjoy europe ensued entering entered enter\nTopic 17:\nresolved americans believing native states united foreigners game principles basket certificate penter algiers advocate form routes barbary desert provost alien el political blacksmith institutions commerce\nTopic 18:\ntiie majesty motion coronation exchequer clarence lord tiiat expenditure chancellor june honourable londonderry petition edinburgh ed engineers englifh england engines enormous engineering engineer engine engagements\nTopic 19:\nzetland engineers engraved englishmen englishman english englifh england engines engineering engravings engineer engine engagements engagement engaged engage eng engraving enjoy europe ensued entering entered enter\n"
     ]
    }
   ],
   "source": [
    "# Run NMF\n",
    "nmf = NMF(n_components=no_topics, random_state=4, alpha=.1, l1_ratio=.5, init='nndsvd').fit(tfidf)\n",
    "\n",
    "# Run LDA\n",
    "lda = LatentDirichletAllocation(n_topics=no_topics, max_iter=5, learning_method='online', learning_offset=50.,random_state=0).fit(tf)\n",
    "\n",
    "no_top_words = 25\n",
    "print(\"\\nTopics in LDA model:\\n\")\n",
    "display_topics(lda, tf_feature_names, no_top_words)\n",
    "\n",
    "print(\"\\nTopics in NMF model:\\n\")\n",
    "display_topics(nmf, tfidf_feature_names, no_top_words)"
   ]
  }
 ],
 "metadata": {
  "kernelspec": {
   "display_name": "Python 2",
   "language": "python",
   "name": "python2"
  },
  "language_info": {
   "codemirror_mode": {
    "name": "ipython",
    "version": 2.0
   },
   "file_extension": ".py",
   "mimetype": "text/x-python",
   "name": "python",
   "nbconvert_exporter": "python",
   "pygments_lexer": "ipython2",
   "version": "2.7.6"
  }
 },
 "nbformat": 4,
 "nbformat_minor": 0
}